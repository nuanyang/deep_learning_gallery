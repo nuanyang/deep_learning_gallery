{
 "cells": [
  {
   "cell_type": "code",
   "execution_count": 1,
   "metadata": {
    "collapsed": false
   },
   "outputs": [
    {
     "name": "stdout",
     "output_type": "stream",
     "text": [
      "Populating the interactive namespace from numpy and matplotlib\n"
     ]
    }
   ],
   "source": [
    "import tensorflow as tf\n",
    "import numpy as np\n",
    "from matplotlib import pyplot as pl\n",
    "%pylab inline"
   ]
  },
  {
   "cell_type": "code",
   "execution_count": 2,
   "metadata": {
    "collapsed": false
   },
   "outputs": [],
   "source": [
    "POWER = 3\n",
    "punish = 0.1\n",
    "SAMPLE_CNT = 100\n",
    "x_ = np.linspace(0, 1, SAMPLE_CNT)\n",
    "noise = np.random.normal(0, 0.15, SAMPLE_CNT)\n",
    "y_ = np.sin(2 * np.pi * x_) + noise\n",
    "#y_ = 2 * x_ + 0.4\n",
    "\n",
    "def generate_poly_vec(_a, _power):\n",
    "    return map(lambda e: [e ** i for i in range(_power+1)], _a)\n",
    "\n",
    "\n",
    "X_feature = generate_poly_vec(x_, POWER)\n",
    "Y_label = np.reshape(y_, (-1, 1))"
   ]
  },
  {
   "cell_type": "code",
   "execution_count": 3,
   "metadata": {
    "collapsed": false
   },
   "outputs": [
    {
     "data": {
      "text/plain": [
       "[<matplotlib.lines.Line2D at 0x7fd5e451ee90>]"
      ]
     },
     "execution_count": 3,
     "metadata": {},
     "output_type": "execute_result"
    },
    {
     "data": {
      "image/png": "[encoded data removed]",
      "text/plain": [
       "<matplotlib.figure.Figure at 0x7fd5e44ceb50>"
      ]
     },
     "metadata": {},
     "output_type": "display_data"
    }
   ],
   "source": [
    "pl.plot(x_, y_, 'o')"
   ]
  },
  {
   "cell_type": "code",
   "execution_count": 4,
   "metadata": {
    "collapsed": false
   },
   "outputs": [],
   "source": [
    "W = tf.Variable(tf.zeros([(POWER + 1), 1]))\n",
    "X = tf.placeholder(\"float\", [None, POWER+1])\n",
    "Y = tf.placeholder(\"float\", [None, 1])"
   ]
  },
  {
   "cell_type": "code",
   "execution_count": 5,
   "metadata": {
    "collapsed": false
   },
   "outputs": [],
   "source": [
    "Y_ = tf.matmul(X, W)\n",
    "minus = tf.sub(Y, Y_)\n",
    "reg = tf.reduce_mean(tf.square(W))\n",
    "loss = tf.reduce_sum(tf.square(minus)) #+ punish * tf.reduce_sum(tf.square(W))\n",
    "op = tf.train.GradientDescentOptimizer(0.0015) \n",
    "#step设置过大时，会不收敛；过小，训练太慢； step的设置要和特征值大小匹配\n",
    "#对于一些Variable，step可能很小，对于另一些可能很大，所以，我们希望Variable的scale能尽量一致\n",
    "train = op.minimize(loss)"
   ]
  },
  {
   "cell_type": "code",
   "execution_count": 6,
   "metadata": {
    "collapsed": false
   },
   "outputs": [],
   "source": [
    "sess = tf.Session()\n",
    "init = tf.initialize_all_variables()\n",
    "sess.run(init)"
   ]
  },
  {
   "cell_type": "code",
   "execution_count": 7,
   "metadata": {
    "collapsed": false
   },
   "outputs": [
    {
     "name": "stdout",
     "output_type": "stream",
     "text": [
      "4.71968\n"
     ]
    }
   ],
   "source": [
    "loss_last = 0\n",
    "for i in range(50000):\n",
    "    sess.run(train, feed_dict={X: X_feature,Y: Y_label})\n",
    "    loss_now = sess.run(loss, feed_dict={X: X_feature,Y: Y_label})\n",
    "    if np.abs(loss_last - loss_now) < 0.0001:\n",
    "        break\n",
    "    loss_last = loss_now\n",
    "print loss_last\n"
   ]
  },
  {
   "cell_type": "code",
   "execution_count": 8,
   "metadata": {
    "collapsed": false
   },
   "outputs": [
    {
     "data": {
      "text/plain": [
       "[<matplotlib.lines.Line2D at 0x7fd5e4239210>]"
      ]
     },
     "execution_count": 8,
     "metadata": {},
     "output_type": "execute_result"
    },
    {
     "data": {
      "image/png": "[encoded data removed]",
      "text/plain": [
       "<matplotlib.figure.Figure at 0x7fd5e4239050>"
      ]
     },
     "metadata": {},
     "output_type": "display_data"
    }
   ],
   "source": [
    "pl.plot(x_,y_, 'ow')\n",
    "pl.plot(x_, np.dot(X_feature, sess.run(W)))"
   ]
  },
  {
   "cell_type": "code",
   "execution_count": 9,
   "metadata": {
    "collapsed": false
   },
   "outputs": [
    {
     "data": {
      "text/plain": [
       "array([[  0.32927218],\n",
       "       [  6.16978455],\n",
       "       [-20.81527138],\n",
       "       [ 14.05768204]], dtype=float32)"
      ]
     },
     "execution_count": 9,
     "metadata": {},
     "output_type": "execute_result"
    }
   ],
   "source": [
    "sess.run(W)\n"
   ]
  },
  {
   "cell_type": "code",
   "execution_count": null,
   "metadata": {
    "collapsed": true
   },
   "outputs": [],
   "source": []
  }
 ],
 "metadata": {
  "kernelspec": {
   "display_name": "Python [Root]",
   "language": "python",
   "name": "Python [Root]"
  },
  "language_info": {
   "codemirror_mode": {
    "name": "ipython",
    "version": 2
   },
   "file_extension": ".py",
   "mimetype": "text/x-python",
   "name": "python",
   "nbconvert_exporter": "python",
   "pygments_lexer": "ipython2",
   "version": "2.7.11"
  }
 },
 "nbformat": 4,
 "nbformat_minor": 0
}
