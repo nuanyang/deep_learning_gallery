{
 "cells": [
  {
   "cell_type": "markdown",
   "metadata": {},
   "source": [
    "# TensorFlow\n",
    "\n",
    "![tensorflow log](images/tensor_flow_log.png)\n",
    "\n",
    "记得数据流图的定义吗？ https://en.wikipedia.org/wiki/Data_flow_diagram\n",
    "\n",
    "现在越来越多的可视化开发工具，支持用数据流来描述一个任务，用户定义数据流图中每个结点的处理方式和输入、输出（数据流）完成对计算任务的定义，提交给执行引擎去完成计算任务（显式的数据流图开发：kettle， 隐式的数据流图开发：spark）。\n",
    "\n",
    "Tensor（中文译作“张量”）是一种特殊的数据，可以看作是一个类型化的多维数组，其维度(维度可以理解为数据膨胀的方向)被称为rank（为了区分向量里“维”的概念：本文把向量的第n维数值称为向量的第n个分量，把tensor的第n个维度称为Rank N，把有K个rank的tensor叫做K-rank tensor）。0-rank tensor就是一个标量（scalar），1-rank tensor就是向量（vector），2-rank tensor是矩阵（matrix）。\n",
    "\n",
    "TensorFlow 是一个张量数据流图(tensor flow diagram)编程系统, 使用图来表示计算任务. 图中的节点被称之为 op (operation 的缩写). 一个 op 获得 0 个或多个 Tensor作为输入, 执行计算，输出0个或多个Tensor。\n",
    "\n",
    "每个tensorflow图被称为一个session。"
   ]
  },
  {
   "cell_type": "markdown",
   "metadata": {},
   "source": [
    "# A very simple example\n",
    "下面，我们用一个极简单的例子“两个常量的加法：1+2＝3”，来说明tensorflow的工作方式。\n",
    "使用tensorflow工具，首先要引入tensorflow库："
   ]
  },
  {
   "cell_type": "code",
   "execution_count": 2,
   "metadata": {
    "collapsed": true
   },
   "outputs": [],
   "source": [
    "import tensorflow as tf"
   ]
  },
  {
   "cell_type": "markdown",
   "metadata": {},
   "source": [
    "然后，我们定义一个张量流图，该数据流量有三个操作：\n",
    "1. 生成常量x\n",
    "2. 生成常量y\n",
    "3. 将x和y相加\n",
    "\n",
    "对应如下的python代码："
   ]
  },
  {
   "cell_type": "code",
   "execution_count": 7,
   "metadata": {
    "collapsed": true
   },
   "outputs": [],
   "source": [
    "x = tf.constant(1)\n",
    "y = tf.constant(2)\n",
    "\n",
    "z = tf.add(x, y)"
   ]
  },
  {
   "cell_type": "code",
   "execution_count": 4,
   "metadata": {
    "collapsed": true
   },
   "outputs": [],
   "source": [
    "sess = tf.Session()\n",
    "result = sess.run(z)"
   ]
  },
  {
   "cell_type": "code",
   "execution_count": 6,
   "metadata": {
    "collapsed": false
   },
   "outputs": [
    {
     "name": "stdout",
     "output_type": "stream",
     "text": [
      "3\n"
     ]
    }
   ],
   "source": [
    "print result"
   ]
  },
  {
   "cell_type": "markdown",
   "metadata": {},
   "source": [
    "示例代码\n",
    "![tensor add](images/tensor_add.jpg)\n",
    "图中，constant是一个特殊的"
   ]
  },
  {
   "cell_type": "code",
   "execution_count": null,
   "metadata": {
    "collapsed": true
   },
   "outputs": [],
   "source": []
  }
 ],
 "metadata": {
  "kernelspec": {
   "display_name": "Python [Root]",
   "language": "python",
   "name": "Python [Root]"
  },
  "language_info": {
   "codemirror_mode": {
    "name": "ipython",
    "version": 2
   },
   "file_extension": ".py",
   "mimetype": "text/x-python",
   "name": "python",
   "nbconvert_exporter": "python",
   "pygments_lexer": "ipython2",
   "version": "2.7.11"
  }
 },
 "nbformat": 4,
 "nbformat_minor": 0
}
