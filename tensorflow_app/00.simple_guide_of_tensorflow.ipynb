{
 "cells": [
  {
   "cell_type": "markdown",
   "metadata": {},
   "source": [
    "# A Simple Guide of TensorFlow\n",
    "\n",
    "> 原载地址：https://github.com/PhanYoung/deep_learning_gallery/   \n",
    "作者: PhanYoung （转载请注明出处）\n",
    "\n",
    "\n",
    "![tensorflow log](images/tensor_flow_log.png)\n",
    "\n",
    "记得数据流图的定义吗？ https://en.wikipedia.org/wiki/Data_flow_diagram\n",
    "\n",
    "现在越来越多的可视化开发工具，支持用数据流来描述一个任务，用户定义数据流图中每个结点的处理方式和输入、输出（数据流）完成对计算任务的定义，提交给执行引擎去完成计算任务（显式的数据流图开发：kettle， 隐式的数据流图开发：spark）。\n",
    "\n",
    "Tensor（中文译作“张量”）是一种特殊的数据，可以看作是一个类型化的多维数组，其维度(维度可以理解为数据膨胀的方向)被称为rank（为了区分向量里“维”的概念：本文把向量的第n维数值称为向量的第n个分量，把tensor的第n个维度称为Rank N，把有K个rank的tensor叫做K-rank tensor）。0-rank tensor就是一个标量（scalar），1-rank tensor就是向量（vector），2-rank tensor是矩阵（matrix）。\n",
    "\n",
    "TensorFlow 是一个张量数据流图(tensor flow diagram)编程系统, 使用图来表示计算任务. 图中的节点被称之为 op (operation 的缩写). 一个 op 获得 0 个或多个 Tensor作为输入, 执行计算，输出0个或多个Tensor。每个OP的返回值可以赋值给一个符号句柄（即python变量，注意：tensorflow中“变量”的概念和python变量的概念不同，下文用python变量和TF变量来区分），表示OP的一个输出（注意是输出，而不是输出值）。图中的边即代表tensor。每个tensorflow图被称为一个session。"
   ]
  },
  {
   "cell_type": "markdown",
   "metadata": {},
   "source": [
    "# A very simple example\n",
    "下面，我们用一个极简单的例子“两个常量的加法：1+2=3”，来说明tensorflow的工作方式。\n",
    "使用tensorflow工具，首先要引入tensorflow库："
   ]
  },
  {
   "cell_type": "code",
   "execution_count": 1,
   "metadata": {
    "collapsed": true
   },
   "outputs": [],
   "source": [
    "import tensorflow as tf"
   ]
  },
  {
   "cell_type": "markdown",
   "metadata": {},
   "source": [
    "然后，我们定义两个常量，并把它们相加："
   ]
  },
  {
   "cell_type": "code",
   "execution_count": 2,
   "metadata": {
    "collapsed": true
   },
   "outputs": [],
   "source": [
    "x = tf.constant(1)\n",
    "y = tf.constant(2)\n",
    "\n",
    "z = tf.add(x, y)"
   ]
  },
  {
   "cell_type": "markdown",
   "metadata": {},
   "source": [
    "上面的代码，定义一个张量数据流图的定义了三个节点（OP）：\n",
    "1. 生成常量1的OP，其输出用x表示\n",
    "2. 生成常量2的OP，其输出用y表示\n",
    "3. 将x和y相加相加的OP，其输出用z表示\n",
    "\n",
    "constant是一种特殊的OP，它有0个输出，有1个常量输出，这非常像我们电路中的直流信号发生器。\n",
    "我们通过OP构造器定义的节点，都会被默认地加到该图中，通过Session()函数来获取默认图。"
   ]
  },
  {
   "cell_type": "code",
   "execution_count": 3,
   "metadata": {
    "collapsed": false
   },
   "outputs": [],
   "source": [
    "sess = tf.Session()"
   ]
  },
  {
   "cell_type": "markdown",
   "metadata": {},
   "source": [
    "示例代码\n",
    "![tensor add](images/tensor_add.png)\n",
    "。需要说明的是，x、y、z只表示OP的输出tensor，而不是输出值。这三个python变量代表了三个tensor，tensor就像是数据的管道，tensor本身只规定管道里流的是什么样的数据，其本身是不包含数值的（即tensor不会在内存中存放数值，仅仅是获取数值的一个接口）。直接打印x,y,z，我们只能看到tensor管道的信息，看不到管道里流过的数值："
   ]
  },
  {
   "cell_type": "code",
   "execution_count": 4,
   "metadata": {
    "collapsed": false
   },
   "outputs": [
    {
     "name": "stdout",
     "output_type": "stream",
     "text": [
      "Tensor(\"Const:0\", shape=(), dtype=int32) Tensor(\"Const_1:0\", shape=(), dtype=int32) Tensor(\"Add:0\", shape=(), dtype=int32)\n"
     ]
    }
   ],
   "source": [
    "print x, y, z"
   ]
  },
  {
   "cell_type": "markdown",
   "metadata": {},
   "source": [
    "我们可以把OP想像成一些电子器件，而tensor则是这些器件之间的连线，session则是拼装好的电路。只拼装好了电路，是不会有电信号的，只有启动这个电路，才会捕捉到电信号。启动Session“电路”的方法是，run()函数："
   ]
  },
  {
   "cell_type": "code",
   "execution_count": 5,
   "metadata": {
    "collapsed": false
   },
   "outputs": [
    {
     "name": "stdout",
     "output_type": "stream",
     "text": [
      "3\n"
     ]
    }
   ],
   "source": [
    "print sess.run(z)"
   ]
  },
  {
   "cell_type": "markdown",
   "metadata": {},
   "source": [
    "在run函数中，需要指定某个结点（OP）的输出作为参数，在session启动时，只有该结点需要直接或间接依赖的节点才会工作。\n",
    "所有tensor只是数值流过的通道，本身并不会维护数据值。如果想保存该值，可以指定一个python变量来存放run()的结果。"
   ]
  },
  {
   "cell_type": "code",
   "execution_count": 6,
   "metadata": {
    "collapsed": true
   },
   "outputs": [],
   "source": [
    "result = sess.run(z)"
   ]
  }
 ],
 "metadata": {
  "kernelspec": {
   "display_name": "Python [Root]",
   "language": "python",
   "name": "Python [Root]"
  },
  "language_info": {
   "codemirror_mode": {
    "name": "ipython",
    "version": 2
   },
   "file_extension": ".py",
   "mimetype": "text/x-python",
   "name": "python",
   "nbconvert_exporter": "python",
   "pygments_lexer": "ipython2",
   "version": "2.7.11"
  }
 },
 "nbformat": 4,
 "nbformat_minor": 0
}
